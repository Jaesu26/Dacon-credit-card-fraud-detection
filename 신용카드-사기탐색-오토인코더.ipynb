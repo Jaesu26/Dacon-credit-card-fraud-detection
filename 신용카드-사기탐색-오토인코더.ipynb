{
 "cells": [
  {
   "cell_type": "markdown",
   "metadata": {
    "colab_type": "text",
    "id": "view-in-github"
   },
   "source": [
    "<a href=\"https://colab.research.google.com/github/Jaesu26/Dacon-Basic/blob/main/%EC%8B%A0%EC%9A%A9%EC%B9%B4%EB%93%9C_%EC%82%AC%EA%B8%B0%ED%83%90%EC%83%89_%EC%98%A4%ED%86%A0%EC%9D%B8%EC%BD%94%EB%8D%94.ipynb\" target=\"_parent\"><img src=\"https://colab.research.google.com/assets/colab-badge.svg\" alt=\"Open In Colab\"/></a>"
   ]
  },
  {
   "cell_type": "markdown",
   "metadata": {
    "id": "MZkzZ3oCpfJV"
   },
   "source": [
    "# 신용카드 사기 거래 탐지 AI 경진대회"
   ]
  },
  {
   "cell_type": "markdown",
   "metadata": {
    "id": "r6ikoE7iph3M"
   },
   "source": [
    "## 패키지 import"
   ]
  },
  {
   "cell_type": "code",
   "execution_count": 1,
   "metadata": {
    "id": "rZQEN3Qhne0s"
   },
   "outputs": [],
   "source": [
    "import numpy as np\n",
    "import pandas as pd\n",
    "import os\n",
    "import time\n",
    "import matplotlib.pyplot as plt\n",
    "import seaborn as sns\n",
    "import warnings\n",
    "from glob import glob\n",
    "from tqdm import tqdm\n",
    "\n",
    "warnings.filterwarnings(action='ignore')"
   ]
  },
  {
   "cell_type": "code",
   "execution_count": 143,
   "metadata": {
    "id": "7-p7m2pipls0"
   },
   "outputs": [],
   "source": [
    "SEED = 22\n",
    "N_FOLD = 1\n",
    "SAVE_PATH = './weight'\n",
    "LEARNING_RATE = 1e-3\n",
    "EPOCHS = 50\n",
    "BATCH_SIZE = 512"
   ]
  },
  {
   "cell_type": "code",
   "execution_count": 6,
   "metadata": {},
   "outputs": [
    {
     "data": {
      "text/plain": [
       "'C:\\\\Users\\\\Jaesu\\\\github_desktop\\\\Dacon-credit-card-fraud-detection'"
      ]
     },
     "execution_count": 6,
     "metadata": {},
     "output_type": "execute_result"
    }
   ],
   "source": [
    "os.getcwd()"
   ]
  },
  {
   "cell_type": "code",
   "execution_count": 7,
   "metadata": {
    "id": "TEWCJsoiqX20"
   },
   "outputs": [],
   "source": [
    "train = pd.read_csv('./Data/train.csv')\n",
    "valid = pd.read_csv('./Data/val.csv')\n",
    "test = pd.read_csv('./Data/test.csv')\n",
    "submission = pd.read_csv('./Data/sample_submission.csv')"
   ]
  },
  {
   "cell_type": "code",
   "execution_count": 8,
   "metadata": {
    "id": "tJ5k8UuaqaJM"
   },
   "outputs": [],
   "source": [
    "train.drop('ID', axis=1, inplace=True)\n",
    "valid.drop('ID', axis=1, inplace=True)\n",
    "test.drop('ID', axis=1, inplace=True)"
   ]
  },
  {
   "cell_type": "code",
   "execution_count": 19,
   "metadata": {
    "id": "oov5CtaZGUjX"
   },
   "outputs": [],
   "source": [
    "target = valid['Class']"
   ]
  },
  {
   "cell_type": "code",
   "execution_count": 20,
   "metadata": {
    "id": "aR_0EHB9GZJQ"
   },
   "outputs": [],
   "source": [
    "valid.drop('Class', axis=1, inplace=True)"
   ]
  },
  {
   "cell_type": "markdown",
   "metadata": {
    "id": "_ckbzgK1qcbU"
   },
   "source": [
    "`-` label은 valid 데이터에만 있다"
   ]
  },
  {
   "cell_type": "markdown",
   "metadata": {
    "id": "HIVf0N7krnF8"
   },
   "source": [
    "- 가중치 저장 폴더 생성"
   ]
  },
  {
   "cell_type": "code",
   "execution_count": 9,
   "metadata": {
    "id": "JC5ViilrroWs"
   },
   "outputs": [],
   "source": [
    "def create_folder(directory):\n",
    "    try:\n",
    "        if not os.path.exists(directory):\n",
    "            os.makedirs(directory)\n",
    "    except OSError as error:\n",
    "        print(error)"
   ]
  },
  {
   "cell_type": "code",
   "execution_count": 10,
   "metadata": {
    "id": "MOYUiF1RrtFs"
   },
   "outputs": [],
   "source": [
    "create_folder(SAVE_PATH)"
   ]
  },
  {
   "cell_type": "markdown",
   "metadata": {
    "id": "diQsfXBOrKZc"
   },
   "source": [
    "## 데이터 셋 및 오토인코더 모델 정의"
   ]
  },
  {
   "cell_type": "code",
   "execution_count": 12,
   "metadata": {
    "id": "hgAQewInr0l0"
   },
   "outputs": [],
   "source": [
    "import torch\n",
    "from torch.utils.data import Dataset, DataLoader\n",
    "from torch import nn\n",
    "from sklearn.preprocessing import MinMaxScaler, StandardScaler, RobustScaler\n",
    "from sklearn.metrics import f1_score, classification_report"
   ]
  },
  {
   "cell_type": "code",
   "execution_count": 13,
   "metadata": {
    "id": "J4RynAUArKGU"
   },
   "outputs": [],
   "source": [
    "device = torch.device('cuda' if torch.cuda.is_available() else 'cpu')"
   ]
  },
  {
   "cell_type": "code",
   "execution_count": 14,
   "metadata": {
    "colab": {
     "base_uri": "https://localhost:8080/"
    },
    "id": "qhA_RV-t3JJe",
    "outputId": "894f6719-f916-4e58-c451-4c3a268a85f9"
   },
   "outputs": [
    {
     "name": "stdout",
     "output_type": "stream",
     "text": [
      "현재 device는 cpu입니다\n"
     ]
    }
   ],
   "source": [
    "print(f'현재 device는 {device}입니다')"
   ]
  },
  {
   "cell_type": "code",
   "execution_count": 15,
   "metadata": {
    "id": "8kXg11YM3Lc9"
   },
   "outputs": [],
   "source": [
    "def seed_everything(seed: int = 22):\n",
    "    import random, os\n",
    "    import numpy as np\n",
    "    import torch\n",
    "    \n",
    "    random.seed(seed)\n",
    "    os.environ['PYTHONHASHSEED'] = str(seed)\n",
    "    np.random.seed(seed)\n",
    "    torch.manual_seed(seed)\n",
    "    torch.cuda.manual_seed(seed)\n",
    "    torch.backends.cudnn.deterministic = True\n",
    "    torch.backends.cudnn.benchmark = True"
   ]
  },
  {
   "cell_type": "code",
   "execution_count": 16,
   "metadata": {
    "id": "NXlvXpgw3Mdc"
   },
   "outputs": [],
   "source": [
    "seed_everything(SEED) ## 재현을 위한 seed 고정"
   ]
  },
  {
   "cell_type": "code",
   "execution_count": 94,
   "metadata": {
    "id": "w3SR5h5Jqx6V"
   },
   "outputs": [],
   "source": [
    "features = ['V1', 'V3', 'V4', 'V5', 'V7', 'V9', 'V10', 'V11', 'V12', 'V14', 'V16', 'V17', 'V18'] ## 정상 분포와 사기 분포가 서로 겹치지 않는 변수 목록"
   ]
  },
  {
   "cell_type": "markdown",
   "metadata": {},
   "source": [
    "- scaling"
   ]
  },
  {
   "cell_type": "markdown",
   "metadata": {},
   "source": [
    "`-` 정확한 학습을 위해 변수들의 분포를 비슷하게 해주겠다\n",
    "\n",
    "`-` 데이터에 이상점이 많으므로 z-표준화 대신 로버스트 표준화를 하겠다"
   ]
  },
  {
   "cell_type": "code",
   "execution_count": 33,
   "metadata": {},
   "outputs": [],
   "source": [
    "scaler = RobustScaler()"
   ]
  },
  {
   "cell_type": "code",
   "execution_count": 34,
   "metadata": {},
   "outputs": [
    {
     "data": {
      "text/plain": [
       "RobustScaler()"
      ]
     },
     "execution_count": 34,
     "metadata": {},
     "output_type": "execute_result"
    }
   ],
   "source": [
    "scaler.fit(train)"
   ]
  },
  {
   "cell_type": "code",
   "execution_count": 35,
   "metadata": {},
   "outputs": [],
   "source": [
    "train_scaled = scaler.transform(train)\n",
    "train_scaled = pd.DataFrame(data=train_scaled, columns=train.columns)\n",
    "\n",
    "valid_scaled = scaler.transform(valid)\n",
    "valid_scaled = pd.DataFrame(data=valid_scaled, columns=valid.columns)\n",
    "\n",
    "test_scaled = scaler.transform(test)\n",
    "test_scaled = pd.DataFrame(data=test_scaled, columns=test.columns)"
   ]
  },
  {
   "cell_type": "markdown",
   "metadata": {
    "id": "nfiT-2ST33Dt"
   },
   "source": [
    "- 데이터 셋"
   ]
  },
  {
   "cell_type": "code",
   "execution_count": 18,
   "metadata": {
    "id": "cYCMyc982b7N"
   },
   "outputs": [],
   "source": [
    "class CustomDataset(Dataset):\n",
    "  \n",
    "    def __init__(self, X, y=None, is_valid=False, transforms=None):\n",
    "        self.data = torch.tensor(X.to_numpy().astype(np.float32))\n",
    "        self.labels = y\n",
    "        self.transforms = transforms\n",
    "        self.is_valid = is_valid\n",
    "    \n",
    "    def __getitem__(self, idx):\n",
    "        data = self.data[idx]    \n",
    "        if self.transforms is not None:\n",
    "            data = self.transforms(data)\n",
    "\n",
    "        if self.is_valid:\n",
    "            labels = self.labels[idx]\n",
    "            labels = torch.tensor(np.array(labels), dtype=torch.int64)\n",
    "            return data, labels\n",
    "        \n",
    "        return data ## train과 test는 라벨이 없다\n",
    "    \n",
    "    def __len__(self):\n",
    "        return self.data.shape[0] ## 데이터 개수 반환"
   ]
  },
  {
   "cell_type": "markdown",
   "metadata": {
    "id": "C0IcZi4Z3pb2"
   },
   "source": [
    "- auto encoder"
   ]
  },
  {
   "cell_type": "markdown",
   "metadata": {
    "id": "0PppCT5LDO6u"
   },
   "source": [
    "`-` VAE 모델: https://github.com/Jackson-Kang/Pytorch-VAE-tutorial/blob/master/01_Variational_AutoEncoder.ipynb\n",
    "\n",
    "`-` 성능은 일반 오토인코더와 비슷함\n",
    "\n",
    "`-` 모델에 $X$를 input하면 인코더가 $X$의 특징을 추출하고 디코더가 특징을 보고 $X$를 reconstruction하여 output으로 $\\hat{X}$을 반환함 "
   ]
  },
  {
   "cell_type": "code",
   "execution_count": 109,
   "metadata": {
    "id": "Ik23mhES5M-F"
   },
   "outputs": [],
   "source": [
    "class AutoEncoder(nn.Module):\n",
    "\n",
    "    def __init__(self, input_dim, hidden_dim1):\n",
    "        super().__init__()\n",
    "        self.encoder = nn.Sequential(\n",
    "          nn.Linear(input_dim, hidden_dim1),\n",
    "          nn.GELU()\n",
    "        )\n",
    "\n",
    "        self.decoder = nn.Sequential(\n",
    "          nn.Linear(hidden_dim1, input_dim),\n",
    "          nn.GELU()\n",
    "        )\n",
    "\n",
    "    def forward(self, x):\n",
    "        x = self.encoder(x)\n",
    "        x = self.decoder(x)\n",
    "        return x"
   ]
  },
  {
   "cell_type": "markdown",
   "metadata": {
    "id": "_SyNXtCF-Xmt"
   },
   "source": [
    "- layer 가중치 초기화 "
   ]
  },
  {
   "cell_type": "code",
   "execution_count": 22,
   "metadata": {
    "id": "wOdjR9_A-YKl"
   },
   "outputs": [],
   "source": [
    "## Linear layer 가중치 초기화\n",
    "def init_weights(m):\n",
    "    classname = m.__class__.__name__\n",
    "    if classname.find('Linear') != -1:\n",
    "        y = m.in_features\n",
    "        m.weight.data.normal_(0.0, np.sqrt(2 / y))\n",
    "        m.bias.data.fill_(0)"
   ]
  },
  {
   "cell_type": "markdown",
   "metadata": {
    "id": "ITO3lXTnCHZh"
   },
   "source": [
    "- 조기 중단"
   ]
  },
  {
   "cell_type": "code",
   "execution_count": 23,
   "metadata": {
    "id": "SP_0MmMp-asn"
   },
   "outputs": [],
   "source": [
    "class EarlyStopping:\n",
    "    ## 코드 참고: https://github.com/Bjarten/early-stopping-pytorch/blob/master/pytorchtools.py\n",
    "    \n",
    "    \"\"\"주어진 patience 이후로 validation loss가 개선되지 않으면 학습을 조기 중지\"\"\"\n",
    "    def __init__(self, patience=7, verbose=False, delta=0, path='./weight', n_fold=1):\n",
    "        \"\"\"\n",
    "        Args:\n",
    "            patience (int): validation loss가 개선된 후 기다리는 에폭\n",
    "                            Default: 7\n",
    "            verbose (bool): True일 경우 각 validation loss의 개선 사항 메세지 출력\n",
    "                            Default: False\n",
    "            delta (float): 개선되었다고 인정되는 monitered quantity의 최소 변화\n",
    "                            Default: 0\n",
    "            path (str): checkpoint 저장 경로\n",
    "                            Default: 'checkpoint.pt'\n",
    "            n_fold (int): 현재 학습을 진행하는 fold의 순서\n",
    "                            Default: 1\n",
    "        \"\"\"\n",
    "        self.patience = patience\n",
    "        self.verbose = verbose\n",
    "        self.counter = 0\n",
    "        self.best_score = None\n",
    "        self.early_stop = False\n",
    "        self.val_loss_min = np.Inf\n",
    "        self.delta = delta\n",
    "        self.path = path\n",
    "        self.n_fold = n_fold\n",
    "\n",
    "    def __call__(self, model, val_loss):\n",
    "\n",
    "        score = -val_loss ## val_loss는 작을수록 좋다 ## score는 0에 가까울수록 좋다\n",
    "\n",
    "        if self.best_score is None:\n",
    "            self.best_score = score\n",
    "            self.save_checkpoint(val_loss, model)  \n",
    "        elif score < self.best_score + self.delta: ## loss가 개선되지 않았을 때\n",
    "            self.counter += 1 ## 카운팅 +1\n",
    "            # print(f'EarlyStopping counter: {self.counter} out of {self.patience}')\n",
    "            if self.counter >= self.patience: ## 만약 loss가 개선되지 않은 스탭이 patience보다 크거나 같아진다면 조기중단\n",
    "                self.early_stop = True\n",
    "        else: ## loss가 개선됨\n",
    "            self.best_score = score ## score 갱신\n",
    "            self.save_checkpoint(val_loss, model) ## loss와 model 저장\n",
    "            self.counter = 0 ## loss가 개선되었으므로 0으로 초기화\n",
    "\n",
    "    def save_checkpoint(self, val_loss, model):\n",
    "        \"\"\"validation loss가 감소하면 모델을 저장\"\"\"\n",
    "        if self.verbose:\n",
    "            print(f'Validation loss decreased ({self.val_loss_min:.5f} -> {val_loss:.5f})  Saving model ...')\n",
    "        torch.save(model.state_dict(), self.path + f'/best_{self.n_fold}.pt') ## 모델의 계층별 가중치를 지정한 경로에 저장\n",
    "        self.val_loss_min = val_loss ## 모델이 더 좋게 갱신되었으므로 이때의 valid loss를 기준치로 변경"
   ]
  },
  {
   "cell_type": "markdown",
   "metadata": {
    "id": "zgrvxKUTAuI2"
   },
   "source": [
    "- 스케줄러"
   ]
  },
  {
   "cell_type": "code",
   "execution_count": 24,
   "metadata": {
    "id": "p4TKPFuFCpKd"
   },
   "outputs": [],
   "source": [
    "import math\n",
    "from torch.optim.lr_scheduler import _LRScheduler\n",
    "\n",
    "class CosineAnnealingWarmUpRestarts(_LRScheduler):\n",
    "    ## 코드: https://github.com/gaussian37/pytorch_deep_learning_models/blob/master/cosine_annealing_with_warmup/cosine_annealing_with_warmup.py\n",
    "    def __init__(self, optimizer, T_0, T_mult=1, eta_max=0.1, T_up=0, gamma=1., last_epoch=-1):\n",
    "        if T_0 <= 0 or not isinstance(T_0, int):\n",
    "            raise ValueError(\"Expected positive integer T_0, but got {}\".format(T_0))\n",
    "        if T_mult < 1 or not isinstance(T_mult, int):\n",
    "            raise ValueError(\"Expected integer T_mult >= 1, but got {}\".format(T_mult))\n",
    "        if T_up < 0 or not isinstance(T_up, int):\n",
    "            raise ValueError(\"Expected positive integer T_up, but got {}\".format(T_up))\n",
    "            \n",
    "        self.T_0 = T_0\n",
    "        self.T_mult = T_mult\n",
    "        self.base_eta_max = eta_max\n",
    "        self.eta_max = eta_max\n",
    "        self.T_up = T_up\n",
    "        self.T_i = T_0\n",
    "        self.gamma = gamma\n",
    "        self.cycle = 0\n",
    "        self.T_cur = last_epoch\n",
    "        super(CosineAnnealingWarmUpRestarts, self).__init__(optimizer, last_epoch)\n",
    "    \n",
    "    def get_lr(self):\n",
    "        if self.T_cur == -1:\n",
    "            return self.base_lrs\n",
    "        elif self.T_cur < self.T_up:\n",
    "            return [(self.eta_max - base_lr)*self.T_cur / self.T_up + base_lr for base_lr in self.base_lrs]\n",
    "        else:\n",
    "            return [base_lr + (self.eta_max - base_lr) * (1 + math.cos(math.pi * (self.T_cur-self.T_up) / (self.T_i - self.T_up))) / 2\n",
    "                    for base_lr in self.base_lrs]\n",
    "\n",
    "    def step(self, epoch=None):\n",
    "        if epoch is None:\n",
    "            epoch = self.last_epoch + 1\n",
    "            self.T_cur = self.T_cur + 1\n",
    "            if self.T_cur >= self.T_i:\n",
    "                self.cycle += 1\n",
    "                self.T_cur = self.T_cur - self.T_i\n",
    "                self.T_i = (self.T_i - self.T_up) * self.T_mult + self.T_up\n",
    "        else:\n",
    "            if epoch >= self.T_0:\n",
    "                if self.T_mult == 1:\n",
    "                    self.T_cur = epoch % self.T_0\n",
    "                    self.cycle = epoch // self.T_0\n",
    "                else:\n",
    "                    n = int(math.log((epoch / self.T_0 * (self.T_mult - 1) + 1), self.T_mult))\n",
    "                    self.cycle = n\n",
    "                    self.T_cur = epoch - self.T_0 * (self.T_mult ** n - 1) / (self.T_mult - 1)\n",
    "                    self.T_i = self.T_0 * self.T_mult ** (n)\n",
    "            else:\n",
    "                self.T_i = self.T_0\n",
    "                self.T_cur = epoch\n",
    "                \n",
    "        self.eta_max = self.base_eta_max * (self.gamma**self.cycle)\n",
    "        self.last_epoch = math.floor(epoch)\n",
    "        for param_group, lr in zip(self.optimizer.param_groups, self.get_lr()):\n",
    "            param_group['lr'] = lr"
   ]
  },
  {
   "cell_type": "markdown",
   "metadata": {
    "id": "29dr8Fm1CrLv"
   },
   "source": [
    "## 모델 학습"
   ]
  },
  {
   "cell_type": "markdown",
   "metadata": {
    "id": "5nJh-di5Egpz"
   },
   "source": [
    "- 손실 함수"
   ]
  },
  {
   "cell_type": "code",
   "execution_count": 25,
   "metadata": {
    "id": "mZexYJiDCu5d"
   },
   "outputs": [],
   "source": [
    "loss_fn = nn.MSELoss()"
   ]
  },
  {
   "cell_type": "markdown",
   "metadata": {
    "id": "RjAqBvvAEh97"
   },
   "source": [
    "- 훈련"
   ]
  },
  {
   "cell_type": "code",
   "execution_count": 26,
   "metadata": {
    "id": "Fue0W_XyC0Xl"
   },
   "outputs": [],
   "source": [
    "def training(model: nn.Module, dataloader, optimizer, loss_fn, scheduler=None):\n",
    "    \"\"\"dataloader의 데이터를 사용하여 학습된 모델과 epoch 하나당 batch들의 평균 훈련 오차를 반환\"\"\"\n",
    "    model.train() ## 훈련모드\n",
    "    train_avg_loss = 0 ## 에폭별 배치단위 평균 훈련 오차\n",
    "    train_total_batch = len(dataloader) ## 배치 크기\n",
    "\n",
    "    for X in dataloader: ## 미니 배치 단위로 꺼내온다, X는 미니 배치, y는 레이블\n",
    "        X = X.to(device)\n",
    "        optimizer.zero_grad() ## 그래디언트 초기화\n",
    "        X_hat = model(X)\n",
    "        loss = loss_fn(X, X_hat).to(device) ## 오차를 계산 ## train loss\n",
    "        loss.backward()  ## 미분\n",
    "        optimizer.step() ## 업데이트\n",
    "        train_avg_loss += (loss.item() / train_total_batch) ## 각 배치마다 훈련 오차 누적\n",
    "\n",
    "    ## epoch마다 학습률 조절\n",
    "    if scheduler is not None:\n",
    "        scheduler.step()\n",
    "\n",
    "    return model, train_avg_loss"
   ]
  },
  {
   "cell_type": "markdown",
   "metadata": {
    "id": "K-KYmkvtEjdU"
   },
   "source": [
    "- 평가"
   ]
  },
  {
   "cell_type": "code",
   "execution_count": 29,
   "metadata": {
    "id": "ZyoqnoeKC_Qe"
   },
   "outputs": [],
   "source": [
    "def evaluate(model: nn.Module, dataloader, loss_fn):\n",
    "    \"\"\"dataloader의 데이터를 사용하여 모델에 대한 epoch 하나당 batch들의 평균 평가 오차를 반환\"\"\"\n",
    "    valid_avg_loss = 0\n",
    "\n",
    "    model.eval() ## 평가모드\n",
    "    with torch.no_grad(): ## 평가할 땐 역전파를 쓸 필요가 없으니까\n",
    "        for X, y in dataloader: \n",
    "            X, y = X.to(device), y.to(device)\n",
    "            X_hat = model(X)\n",
    "            loss = loss_fn(X, X_hat).to(device) ## valid loss  \n",
    "            valid_avg_loss += loss.item() / len(dataloader) ## 각 배치마다 평가 오차 누적    \n",
    "\n",
    "    return valid_avg_loss"
   ]
  },
  {
   "cell_type": "code",
   "execution_count": 28,
   "metadata": {
    "id": "p8d_tYxoE7bO"
   },
   "outputs": [],
   "source": [
    "def show_loss_plot(train_loss: list, valid_loss: list, ax) -> None:\n",
    "    epochs = len(train_loss)\n",
    "    ax.set_title('Train Loss and Valid Loss')\n",
    "    ax.plot(range(1, epochs+1), train_loss, label='Train')\n",
    "    ax.plot(range(1, epochs+1), valid_loss, label='Valid')\n",
    "    ax.set_xlabel('Epochs')\n",
    "    ax.set_ylabel('Loss')\n",
    "    ax.legend()"
   ]
  },
  {
   "cell_type": "code",
   "execution_count": 187,
   "metadata": {
    "colab": {
     "base_uri": "https://localhost:8080/"
    },
    "id": "YLZ84jltFekW",
    "outputId": "7b4c1e18-e65d-471b-b37f-d85e881fddaa"
   },
   "outputs": [
    {
     "name": "stderr",
     "output_type": "stream",
     "text": [
      "  2%|█▋                                                                                 | 1/50 [00:01<01:23,  1.71s/it]"
     ]
    },
    {
     "name": "stdout",
     "output_type": "stream",
     "text": [
      "[Epoch:   1] train loss = 1.9579  valid loss = 1.5376\n"
     ]
    },
    {
     "name": "stderr",
     "output_type": "stream",
     "text": [
      " 22%|██████████████████                                                                | 11/50 [00:16<00:58,  1.51s/it]"
     ]
    },
    {
     "name": "stdout",
     "output_type": "stream",
     "text": [
      "[Epoch:  11] train loss = 0.93939  valid loss = 0.92836\n"
     ]
    },
    {
     "name": "stderr",
     "output_type": "stream",
     "text": [
      " 42%|██████████████████████████████████▍                                               | 21/50 [00:33<00:42,  1.48s/it]"
     ]
    },
    {
     "name": "stdout",
     "output_type": "stream",
     "text": [
      "[Epoch:  21] train loss = 0.8902  valid loss = 0.88828\n"
     ]
    },
    {
     "name": "stderr",
     "output_type": "stream",
     "text": [
      " 62%|██████████████████████████████████████████████████▊                               | 31/50 [00:47<00:28,  1.51s/it]"
     ]
    },
    {
     "name": "stdout",
     "output_type": "stream",
     "text": [
      "[Epoch:  31] train loss = 0.88689  valid loss = 0.88059\n"
     ]
    },
    {
     "name": "stderr",
     "output_type": "stream",
     "text": [
      " 82%|███████████████████████████████████████████████████████████████████▏              | 41/50 [01:02<00:14,  1.61s/it]"
     ]
    },
    {
     "name": "stdout",
     "output_type": "stream",
     "text": [
      "[Epoch:  41] train loss = 0.88399  valid loss = 0.87891\n"
     ]
    },
    {
     "name": "stderr",
     "output_type": "stream",
     "text": [
      "100%|██████████████████████████████████████████████████████████████████████████████████| 50/50 [01:17<00:00,  1.54s/it]"
     ]
    },
    {
     "name": "stdout",
     "output_type": "stream",
     "text": [
      "[Epoch:  50] train loss = 0.88449  valid loss = 0.87933\n",
      " Best Valid Loss: 0.8785\n",
      "\n",
      "\n"
     ]
    },
    {
     "name": "stderr",
     "output_type": "stream",
     "text": [
      "\n"
     ]
    }
   ],
   "source": [
    "seed_everything(SEED) ## 정확한 loss 재현을 위함\n",
    "net_avg_acc = [] ## fold별 valid셋의 평균 정확도\n",
    "net_avg_loss = [] ## fold별 valid셋의 평균 손실\n",
    "net_epoch_train_loss = [[] for _ in range(N_FOLD)] ## fold별 train셋의 한 epoch당 valid셋의 배치 평균 손실\n",
    "net_epoch_valid_loss = [[] for _ in range(N_FOLD)] ## fold별 valid셋의 한 epoch당 valid셋의 배치 평균 손실\n",
    "\n",
    "# gc.collect()\n",
    "# torch.cuda.empty_cache()\n",
    "\n",
    "## early stopping\n",
    "early_stopping = EarlyStopping(patience=10,\n",
    "                                verbose=False,\n",
    "                                path=SAVE_PATH,\n",
    "                                n_fold=1) ## patience 횟수 에폭후에도 valid loss가 작아지지 않으면 조기 중단\n",
    "\n",
    "## 딥러닝 모델\n",
    "hd1 = 7\n",
    "net = AutoEncoder(input_dim = len(features), hidden_dim1=hd1)\n",
    "net.apply(init_weights) ## Linear layer 가중치 초기화\n",
    "\n",
    "## Dataset, Dataloader\n",
    "train_dataset = CustomDataset(X=train[features], y=None, is_valid=False, transforms=None)\n",
    "valid_dataset = CustomDataset(X=valid[features], y=target, is_valid=True, transforms=None)\n",
    "\n",
    "train_dataloader = DataLoader(train_dataset, batch_size=BATCH_SIZE, shuffle=True)\n",
    "valid_dataloader = DataLoader(valid_dataset, batch_size=BATCH_SIZE, shuffle=True)\n",
    "\n",
    "## optimizer\n",
    "optimizer = torch.optim.AdamW(net.parameters(), lr=LEARNING_RATE, weight_decay=1e-4) ## 옵티마이저에 최적화할 파라미터와 학습률 전달\n",
    "\n",
    "## scheduler  \n",
    "# scheduler = CosineAnnealingWarmUpRestarts(optimizer, T_0=30, T_mult=1, eta_max=1e-3,  T_up=5, gamma=0.1)\n",
    "scheduler = torch.optim.lr_scheduler.StepLR(optimizer, step_size=30, gamma=0.1)\n",
    "\n",
    "## fold별로 모델 학습\n",
    "for epoch in tqdm(range(EPOCHS)): ## (배치사이즈 * 에폭)만큼 훈련시킴\n",
    "    net, train_avg_loss = training(net, train_dataloader, optimizer, loss_fn, scheduler)  ## 모델 학습\n",
    "    valid_avg_loss = evaluate(net, valid_dataloader, loss_fn)  ## 모델 평가\n",
    "    net_epoch_train_loss[0].append(train_avg_loss) ## i번째 fold의 에폭 하나당 평균 배치 훈련 오차\n",
    "    net_epoch_valid_loss[0].append(valid_avg_loss) ## i번째 fold의 에폭 하나당 평균 배치 평가 오차\n",
    "\n",
    "    if epoch % 10 == 0 or epoch == EPOCHS - 1: \n",
    "        ## 10의 배수값을 가지는 에폭마다 평균 배치 훈련 오차와 평가 오차 출력\n",
    "        print('[Epoch: {:>3}] train loss = {:>.5}  valid loss = {:>.5}'.format(epoch + 1, train_avg_loss, valid_avg_loss)) \n",
    "        \n",
    "    ## epoch마다 early stopping 실행\n",
    "    early_stopping(net, valid_avg_loss) ## __call__ function\n",
    "    if early_stopping.early_stop: ## early_stop이 true이면\n",
    "        if epoch % 10 != 0 and epoch != EPOCHS - 1:\n",
    "            print('[Epoch: {:>3}] train loss = {:>.5}  valid loss = {:>.5}'.format(epoch + 1, train_avg_loss, valid_avg_loss)) \n",
    "        print('Early stopping!')\n",
    "        break \n",
    "\n",
    "net_avg_loss.append(early_stopping.val_loss_min) ## fold별 loss가 가장 작은 모델의 손실\n",
    "\n",
    "## fold별 평가 루프 종료시 가장 작은 loss를 출력\n",
    "print(f' Best Valid Loss: {early_stopping.val_loss_min:.4f}\\n\\n')"
   ]
  },
  {
   "cell_type": "code",
   "execution_count": 188,
   "metadata": {
    "colab": {
     "base_uri": "https://localhost:8080/",
     "height": 295
    },
    "id": "BHQXopQtMlfe",
    "outputId": "6a97f39e-1520-413f-abd7-dc7936a76d8f"
   },
   "outputs": [
    {
     "data": {
      "image/png": "[encoded data removed]",
      "text/plain": [
       "<Figure size 432x288 with 1 Axes>"
      ]
     },
     "metadata": {
      "needs_background": "light"
     },
     "output_type": "display_data"
    }
   ],
   "source": [
    "## fold별 epoch당 train loss와 valid loss의 변화\n",
    "fig, ax = plt.subplots(1, 1)\n",
    "show_loss_plot(net_epoch_train_loss[0], net_epoch_valid_loss[0], ax=ax)"
   ]
  },
  {
   "cell_type": "markdown",
   "metadata": {
    "id": "SrD9X2VaQoRX"
   },
   "source": [
    "## 모델 검증"
   ]
  },
  {
   "cell_type": "code",
   "execution_count": 189,
   "metadata": {
    "id": "OE53pZymVrb_"
   },
   "outputs": [],
   "source": [
    "net = AutoEncoder(input_dim=len(features), hidden_dim1=hd1).to(device)"
   ]
  },
  {
   "cell_type": "code",
   "execution_count": 190,
   "metadata": {
    "id": "6RuwP3yU0PrU"
   },
   "outputs": [],
   "source": [
    "weight_path = glob(SAVE_PATH + '/*.pt')"
   ]
  },
  {
   "cell_type": "code",
   "execution_count": 191,
   "metadata": {
    "colab": {
     "base_uri": "https://localhost:8080/"
    },
    "id": "qifRnSOM0IR9",
    "outputId": "21feb9f8-519e-4070-f084-545a28bf37ba"
   },
   "outputs": [
    {
     "data": {
      "text/plain": [
       "AutoEncoder(\n",
       "  (encoder): Sequential(\n",
       "    (0): Linear(in_features=13, out_features=7, bias=True)\n",
       "    (1): GELU()\n",
       "  )\n",
       "  (decoder): Sequential(\n",
       "    (0): Linear(in_features=7, out_features=13, bias=True)\n",
       "    (1): GELU()\n",
       "  )\n",
       ")"
      ]
     },
     "execution_count": 191,
     "metadata": {},
     "output_type": "execute_result"
    }
   ],
   "source": [
    "net.load_state_dict(torch.load(*weight_path, map_location=device))\n",
    "net.eval()"
   ]
  },
  {
   "cell_type": "code",
   "execution_count": 192,
   "metadata": {
    "id": "1HrtD3XBW7iQ"
   },
   "outputs": [],
   "source": [
    "valid_data = torch.tensor(np.array(valid[features]).astype(np.float32))"
   ]
  },
  {
   "cell_type": "code",
   "execution_count": 193,
   "metadata": {
    "id": "byRLICGOV8Tf"
   },
   "outputs": [],
   "source": [
    "with torch.no_grad():\n",
    "    X_hat = net(valid_data)\n",
    "    losses = torch.mean((valid_data - X_hat) ** 2, axis=1).cpu().data.numpy()"
   ]
  },
  {
   "cell_type": "code",
   "execution_count": 194,
   "metadata": {
    "colab": {
     "base_uri": "https://localhost:8080/",
     "height": 283
    },
    "id": "S5YaVanoXxvX",
    "outputId": "6c1d73e4-35c5-41ad-af83-8c9e83d5c777"
   },
   "outputs": [
    {
     "data": {
      "text/plain": [
       "<AxesSubplot:>"
      ]
     },
     "execution_count": 194,
     "metadata": {},
     "output_type": "execute_result"
    },
    {
     "data": {
      "image/png": "[encoded data removed]",
      "text/plain": [
       "<Figure size 432x288 with 1 Axes>"
      ]
     },
     "metadata": {
      "needs_background": "light"
     },
     "output_type": "display_data"
    }
   ],
   "source": [
    "sns.scatterplot(x=list(range(valid.shape[0])), y=losses, hue=target, alpha=0.5)"
   ]
  },
  {
   "cell_type": "code",
   "execution_count": 195,
   "metadata": {
    "id": "l0Rs9OCzVzYv"
   },
   "outputs": [],
   "source": [
    "threshold = 100"
   ]
  },
  {
   "cell_type": "code",
   "execution_count": 196,
   "metadata": {
    "id": "p_AD9O4oZ9BO"
   },
   "outputs": [],
   "source": [
    "preds = losses.copy()"
   ]
  },
  {
   "cell_type": "code",
   "execution_count": 197,
   "metadata": {
    "id": "1kdnBv3CY8Hn"
   },
   "outputs": [],
   "source": [
    "preds[preds < threshold] = 0 ## 정상\n",
    "preds[(preds >= threshold)] = 1 ## 비정상"
   ]
  },
  {
   "cell_type": "code",
   "execution_count": 198,
   "metadata": {
    "colab": {
     "base_uri": "https://localhost:8080/"
    },
    "id": "WJpVXjlKZGlH",
    "outputId": "9f1c622d-b8b4-47aa-8b53-1cce1b98086c"
   },
   "outputs": [
    {
     "name": "stdout",
     "output_type": "stream",
     "text": [
      "              precision    recall  f1-score   support\n",
      "\n",
      "           0       1.00      1.00      1.00     28432\n",
      "           1       1.00      0.37      0.54        30\n",
      "\n",
      "    accuracy                           1.00     28462\n",
      "   macro avg       1.00      0.68      0.77     28462\n",
      "weighted avg       1.00      1.00      1.00     28462\n",
      "\n"
     ]
    }
   ],
   "source": [
    "print(classification_report(target, preds))"
   ]
  },
  {
   "cell_type": "code",
   "execution_count": 199,
   "metadata": {
    "colab": {
     "base_uri": "https://localhost:8080/"
    },
    "id": "T4kEBuf4Zd_e",
    "outputId": "c45b3fc1-83d6-47c6-8513-3ae23c29241b"
   },
   "outputs": [
    {
     "data": {
      "text/plain": [
       "11"
      ]
     },
     "execution_count": 199,
     "metadata": {},
     "output_type": "execute_result"
    }
   ],
   "source": [
    "len(preds[preds==1])"
   ]
  },
  {
   "cell_type": "code",
   "execution_count": 200,
   "metadata": {
    "colab": {
     "base_uri": "https://localhost:8080/"
    },
    "id": "U_UDZUO0zajN",
    "outputId": "a605cae8-9672-4492-af6f-341b6595fd0b"
   },
   "outputs": [
    {
     "data": {
      "text/plain": [
       "0.7681256734512389"
      ]
     },
     "execution_count": 200,
     "metadata": {},
     "output_type": "execute_result"
    }
   ],
   "source": [
    "f1_score(target, preds, average='macro')"
   ]
  },
  {
   "cell_type": "markdown",
   "metadata": {
    "id": "xGIBQ9sEzWEG"
   },
   "source": [
    "## test 예측"
   ]
  },
  {
   "cell_type": "code",
   "execution_count": 201,
   "metadata": {
    "id": "2ibx3KI9VUfC"
   },
   "outputs": [],
   "source": [
    "def predict(model: nn.Module, test, weight_save_path, threshold) -> np.array:\n",
    "    \"\"\"저장된 모델의 가중치를 불러와서 dataloader의 각 데이터를 예측하여 반환\"\"\"\n",
    "    model = model.to(device) ## device는 전역변수\n",
    "    model.eval()\n",
    "    weight_path_list = glob(weight_save_path + '/*.pt')\n",
    "\n",
    "    for weight in weight_path_list :\n",
    "        model.load_state_dict(torch.load(weight, map_location=device))\n",
    "        model.eval()\n",
    "        test_data = torch.tensor(np.array(test[features]).astype(np.float32))\n",
    "        \n",
    "        with torch.no_grad():\n",
    "            X_hat = net(test_data)\n",
    "            losses = torch.mean((test_data - X_hat) ** 2, axis=1).cpu().data.numpy() \n",
    "                            \n",
    "    preds = losses.copy()\n",
    "    preds[preds < threshold] = 0 ## 정상\n",
    "    preds[(preds >= threshold)] = 1 ## 비정상\n",
    "    return preds"
   ]
  },
  {
   "cell_type": "code",
   "execution_count": 202,
   "metadata": {
    "id": "BB-6YPIwzzwN"
   },
   "outputs": [],
   "source": [
    "net = AutoEncoder(input_dim=len(features), hidden_dim1=hd1).to(device)"
   ]
  },
  {
   "cell_type": "code",
   "execution_count": 203,
   "metadata": {
    "id": "-asKIVJmzonk"
   },
   "outputs": [],
   "source": [
    "test_preds = predict(net, test, SAVE_PATH, threshold)"
   ]
  },
  {
   "cell_type": "code",
   "execution_count": null,
   "metadata": {},
   "outputs": [],
   "source": []
  }
 ],
 "metadata": {
  "colab": {
   "authorship_tag": "ABX9TyOE6IBkYfmBLtKryL/4iMiA",
   "collapsed_sections": [],
   "include_colab_link": true,
   "name": "신용카드-사기탐색-오토인코더.ipynb",
   "provenance": []
  },
  "gpuClass": "standard",
  "kernelspec": {
   "display_name": "Python 3 (ipykernel)",
   "language": "python",
   "name": "python3"
  },
  "language_info": {
   "codemirror_mode": {
    "name": "ipython",
    "version": 3
   },
   "file_extension": ".py",
   "mimetype": "text/x-python",
   "name": "python",
   "nbconvert_exporter": "python",
   "pygments_lexer": "ipython3",
   "version": "3.8.11"
  }
 },
 "nbformat": 4,
 "nbformat_minor": 4
}
